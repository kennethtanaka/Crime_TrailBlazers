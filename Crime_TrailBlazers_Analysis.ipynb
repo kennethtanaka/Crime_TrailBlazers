{
 "cells": [
  {
   "cell_type": "code",
   "execution_count": 1,
   "metadata": {},
   "outputs": [],
   "source": [
    "# Dependencies\n",
    "import pandas as pd\n",
    "import numpy as np\n",
    "import matplotlib.pyplot as plt\n",
    "import scipy.stats as stats"
   ]
  },
  {
   "cell_type": "code",
   "execution_count": 2,
   "metadata": {},
   "outputs": [],
   "source": [
    "dow_table = 'Output/day_of_week_table.csv'\n",
    "total_table = 'Output/game_status_table.csv'\n",
    "gameday_table = 'Output/gameday_table.csv'\n",
    "month_year = 'Output/month_year_crime.csv'\n",
    "crime_count = 'Output/total_daily_crime_count.csv'\n",
    "blazer_data ='Output/trail_blazers.csv'"
   ]
  },
  {
   "cell_type": "code",
   "execution_count": 3,
   "metadata": {},
   "outputs": [],
   "source": [
    "# The correct encoding must be used to read the CSV in pandas\n",
    "dow_table_df = pd.read_csv(dow_table, encoding=\"ISO-8859-1\")\n",
    "total_table_df = pd.read_csv(total_table, encoding=\"ISO-8859-1\")\n",
    "gameday_table_df = pd.read_csv(gameday_table, encoding=\"ISO-8859-1\")\n",
    "month_year_df = pd.read_csv(month_year, encoding=\"ISO-8859-1\")\n",
    "crime_count_df = pd.read_csv(crime_count, encoding=\"ISO-8859-1\")\n",
    "blazer_data_df = pd.read_csv(blazer_data, encoding=\"ISO-8859-1\")"
   ]
  },
  {
   "cell_type": "markdown",
   "metadata": {},
   "source": [
    "## ANOVA Test"
   ]
  },
  {
   "cell_type": "code",
   "execution_count": 4,
   "metadata": {},
   "outputs": [
    {
     "data": {
      "image/png": "[encoded data removed]",
      "text/plain": [
       "<Figure size 1440x720 with 1 Axes>"
      ]
     },
     "metadata": {
      "needs_background": "light"
     },
     "output_type": "display_data"
    }
   ],
   "source": [
    "# Group Game-Day Data\n",
    "dow_table_df.boxplot(\"AverageDailyCrimes\", by=\"GameStatus\", figsize=(20, 10))\n",
    "\n",
    "# Save the figure\n",
    "plt.savefig(\"Output/anova.png\")"
   ]
  },
  {
   "cell_type": "code",
   "execution_count": 5,
   "metadata": {},
   "outputs": [],
   "source": [
    "# Extract individual groups\n",
    "group1 = dow_table_df[dow_table_df[\"GameStatus\"] == \"AwayL\"][\"AverageDailyCrimes\"]\n",
    "group2 = dow_table_df[dow_table_df[\"GameStatus\"] == \"AwayW\"][\"AverageDailyCrimes\"]\n",
    "group3 = dow_table_df[dow_table_df[\"GameStatus\"] == \"HomeL\"][\"AverageDailyCrimes\"]\n",
    "group4 = dow_table_df[dow_table_df[\"GameStatus\"] == \"HomeW\"][\"AverageDailyCrimes\"]\n",
    "group5 = dow_table_df[dow_table_df[\"GameStatus\"] == \"NoGame\"][\"AverageDailyCrimes\"]"
   ]
  },
  {
   "cell_type": "code",
   "execution_count": 6,
   "metadata": {},
   "outputs": [
    {
     "data": {
      "text/plain": [
       "F_onewayResult(statistic=1.1340141701922277, pvalue=0.35933907485470207)"
      ]
     },
     "execution_count": 6,
     "metadata": {},
     "output_type": "execute_result"
    }
   ],
   "source": [
    "# Perform the ANOVA\n",
    "stats.f_oneway(group1, group2, group3, group4, group5)"
   ]
  },
  {
   "cell_type": "markdown",
   "metadata": {},
   "source": [
    "## Independent TTest Game Days vs No Game"
   ]
  },
  {
   "cell_type": "code",
   "execution_count": 7,
   "metadata": {},
   "outputs": [
    {
     "data": {
      "text/html": [
       "<div>\n",
       "<style scoped>\n",
       "    .dataframe tbody tr th:only-of-type {\n",
       "        vertical-align: middle;\n",
       "    }\n",
       "\n",
       "    .dataframe tbody tr th {\n",
       "        vertical-align: top;\n",
       "    }\n",
       "\n",
       "    .dataframe thead th {\n",
       "        text-align: right;\n",
       "    }\n",
       "</style>\n",
       "<table border=\"1\" class=\"dataframe\">\n",
       "  <thead>\n",
       "    <tr style=\"text-align: right;\">\n",
       "      <th></th>\n",
       "      <th>Unnamed: 0</th>\n",
       "      <th>Date</th>\n",
       "      <th>Num_times</th>\n",
       "      <th>HasGame</th>\n",
       "      <th>Month_Year</th>\n",
       "    </tr>\n",
       "  </thead>\n",
       "  <tbody>\n",
       "    <tr>\n",
       "      <td>0</td>\n",
       "      <td>0</td>\n",
       "      <td>2015-05-12</td>\n",
       "      <td>161</td>\n",
       "      <td>False</td>\n",
       "      <td>2015-05</td>\n",
       "    </tr>\n",
       "    <tr>\n",
       "      <td>1</td>\n",
       "      <td>1</td>\n",
       "      <td>2015-05-01</td>\n",
       "      <td>195</td>\n",
       "      <td>False</td>\n",
       "      <td>2015-05</td>\n",
       "    </tr>\n",
       "    <tr>\n",
       "      <td>2</td>\n",
       "      <td>2</td>\n",
       "      <td>2015-05-02</td>\n",
       "      <td>176</td>\n",
       "      <td>False</td>\n",
       "      <td>2015-05</td>\n",
       "    </tr>\n",
       "    <tr>\n",
       "      <td>3</td>\n",
       "      <td>3</td>\n",
       "      <td>2015-05-03</td>\n",
       "      <td>130</td>\n",
       "      <td>False</td>\n",
       "      <td>2015-05</td>\n",
       "    </tr>\n",
       "    <tr>\n",
       "      <td>4</td>\n",
       "      <td>4</td>\n",
       "      <td>2015-05-04</td>\n",
       "      <td>143</td>\n",
       "      <td>False</td>\n",
       "      <td>2015-05</td>\n",
       "    </tr>\n",
       "  </tbody>\n",
       "</table>\n",
       "</div>"
      ],
      "text/plain": [
       "   Unnamed: 0        Date  Num_times  HasGame Month_Year\n",
       "0           0  2015-05-12        161    False    2015-05\n",
       "1           1  2015-05-01        195    False    2015-05\n",
       "2           2  2015-05-02        176    False    2015-05\n",
       "3           3  2015-05-03        130    False    2015-05\n",
       "4           4  2015-05-04        143    False    2015-05"
      ]
     },
     "execution_count": 7,
     "metadata": {},
     "output_type": "execute_result"
    }
   ],
   "source": [
    "gameday_table_df.head()"
   ]
  },
  {
   "cell_type": "code",
   "execution_count": 8,
   "metadata": {},
   "outputs": [
    {
     "data": {
      "text/plain": [
       "136.31632653061226"
      ]
     },
     "execution_count": 8,
     "metadata": {},
     "output_type": "execute_result"
    }
   ],
   "source": [
    "population1 = gameday_table_df[gameday_table_df[\"HasGame\"] == True]\n",
    "population1.Num_times.mean()"
   ]
  },
  {
   "cell_type": "code",
   "execution_count": 9,
   "metadata": {},
   "outputs": [
    {
     "data": {
      "text/plain": [
       "150.0635193133047"
      ]
     },
     "execution_count": 9,
     "metadata": {},
     "output_type": "execute_result"
    }
   ],
   "source": [
    "population2 = gameday_table_df[gameday_table_df[\"HasGame\"] == False]\n",
    "population2.Num_times.mean()"
   ]
  },
  {
   "cell_type": "code",
   "execution_count": 10,
   "metadata": {},
   "outputs": [
    {
     "data": {
      "text/plain": [
       "Ttest_indResult(statistic=-3.6345215223213727, pvalue=0.000318818563354103)"
      ]
     },
     "execution_count": 10,
     "metadata": {},
     "output_type": "execute_result"
    }
   ],
   "source": [
    "stats.ttest_ind(population1.Num_times, population2.Num_times, equal_var=False)"
   ]
  },
  {
   "cell_type": "code",
   "execution_count": 16,
   "metadata": {},
   "outputs": [
    {
     "data": {
      "image/png": "[encoded data removed]",
      "text/plain": [
       "<Figure size 720x720 with 1 Axes>"
      ]
     },
     "metadata": {
      "needs_background": "light"
     },
     "output_type": "display_data"
    }
   ],
   "source": [
    "gameday_table_df.boxplot(\"Num_times\", by=\"HasGame\", figsize=(10, 10))\n",
    "\n",
    "# Save the figure\n",
    "plt.savefig(\"Output/ttest.png\")"
   ]
  },
  {
   "cell_type": "code",
   "execution_count": null,
   "metadata": {},
   "outputs": [],
   "source": []
  }
 ],
 "metadata": {
  "kernelspec": {
   "display_name": "Python 3",
   "language": "python",
   "name": "python3"
  },
  "language_info": {
   "codemirror_mode": {
    "name": "ipython",
    "version": 3
   },
   "file_extension": ".py",
   "mimetype": "text/x-python",
   "name": "python",
   "nbconvert_exporter": "python",
   "pygments_lexer": "ipython3",
   "version": "3.7.4"
  }
 },
 "nbformat": 4,
 "nbformat_minor": 2
}
