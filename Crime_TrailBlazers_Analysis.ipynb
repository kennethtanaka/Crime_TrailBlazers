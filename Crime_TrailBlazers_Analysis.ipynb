{
 "cells": [
  {
   "cell_type": "code",
   "execution_count": 1,
   "metadata": {},
   "outputs": [],
   "source": [
    "# Dependencies\n",
    "import pandas as pd\n",
    "import numpy as np\n",
    "import matplotlib.pyplot as plt"
   ]
  },
  {
   "cell_type": "code",
   "execution_count": 2,
   "metadata": {},
   "outputs": [],
   "source": [
    "dow_table = 'Output/day_of_week_table.csv'\n",
    "total_table = 'Output/game_status_table.csv'\n",
    "month_year = 'Output/month_year_crime.csv'\n",
    "crime_count = 'Output/total_daily_crime_count.csv'\n",
    "blazer_data ='Output/trail_blazers.csv'"
   ]
  },
  {
   "cell_type": "code",
   "execution_count": 3,
   "metadata": {},
   "outputs": [],
   "source": [
    "# The correct encoding must be used to read the CSV in pandas\n",
    "dow_table_df = pd.read_csv(dow_table, encoding=\"ISO-8859-1\")\n",
    "total_table_df = pd.read_csv(total_table, encoding=\"ISO-8859-1\")\n",
    "month_year_df = pd.read_csv(month_year, encoding=\"ISO-8859-1\")\n",
    "crime_count_df = pd.read_csv(crime_count, encoding=\"ISO-8859-1\")\n",
    "blazer_data_df = pd.read_csv(blazer_data, encoding=\"ISO-8859-1\")"
   ]
  },
  {
   "cell_type": "code",
   "execution_count": null,
   "metadata": {},
   "outputs": [],
   "source": []
  }
 ],
 "metadata": {
  "kernelspec": {
   "display_name": "Python 3",
   "language": "python",
   "name": "python3"
  },
  "language_info": {
   "codemirror_mode": {
    "name": "ipython",
    "version": 3
   },
   "file_extension": ".py",
   "mimetype": "text/x-python",
   "name": "python",
   "nbconvert_exporter": "python",
   "pygments_lexer": "ipython3",
   "version": "3.7.4"
  }
 },
 "nbformat": 4,
 "nbformat_minor": 2
}
